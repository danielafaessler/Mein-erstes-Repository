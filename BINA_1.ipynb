{
  "cells": [
    {
      "cell_type": "markdown",
      "metadata": {
        "id": "J9x7FY8icHpt"
      },
      "source": [
        "# Management Summary\n",
        "\n",
        "# 1. Einleitung\n",
        "\n",
        "Die Kundenzufriedenheit spielt eine zentrale Rolle in der wettbewerbsintensiven Luftfahrtbranche. Fluggäste erwarten nicht nur eine sichere und pünktliche Beförderung, sondern auch einen exzellenten Service, der ihr Reiseerlebnis positiv beeinflusst. Gerade auf Flugreisen ist die Kundschaft besonders sensibel für die Qualität des angebotenen Services, sei es aufgrund der hohen Ticketpreise oder der unterbewussten Anspannung während des Flugs. Kleine Details im Service können sich summieren und erheblichen Einfluss auf die Wahrnehmung und Zufriedenheit der Passagiere haben. (International, 2014).\n",
        "\n",
        "Um das Kundenerlebnis systematisch zu optimieren, setzt American Airlines auf Bernard Marrs fünfstufigen Ansatz zur datengetriebenen Entscheidungsfindung. Dieser methodische Ansatz ermöglicht es, fundierte Entscheidungen zu treffen und gezielte Massnahmen zur Verbesserung der Kundenzufriedenheit zu ergreifen. Die vorliegende Arbeit untersucht diesen Prozess detailliert und konzentriert sich dabei auf die ersten vier der fünf Schritte von Marrs (2020):\n",
        "\n",
        "1.  Ziel und Informationsbedarf definieren (Kapitel 2): Hier werden die Hauptziele festgelegt, die als Grundlage für die weiteren Analysen dienen.\n",
        "2.  Daten sammeln (Kapitel 3): Dieser Abschnitt behandelt die verschiedenen Aspekte der Datenerhebung, darunter Datenquellen, Datenqualität, Datenbereinigung und Datenmodellierung.\n",
        "3.  Daten analysieren (Kapitel 4): Die gesammelten und aufbereiteten Daten werden analysiert, um fundierte Erkenntnisse zu gewinnen.\n",
        "4.  Informationen präsentieren (Kapitel 6): Die Analyseergebnisse werden strukturiert aufbereitet und visualisiert, um eine fundierte Entscheidungsgrundlage zu schaffen.\n",
        "\n",
        "Der fünfte Schritt, datengestützte Entscheidungen treffen, wird in dieser Arbeit nicht umgesetzt, da er nicht Teil der Aufgabenstellung ist.\n",
        "\n",
        "# 2. Ziel und Informationsbedarf definieren\n",
        "\n",
        "American Airlines verfolgt das Ziel, die Kundenzufriedenheit kontinuierlich zu verbessern, um sich im hart umkämpften Luftverkehrsmarkt erfolgreich zu behaupten. Dazu ist es notwendig, die wesentlichen Einflussfaktoren zu identifizieren, die das Reiseerlebnis der Passagiere positiv oder negativ beeinflussen. Ein datenbasierter Ansatz ermöglicht es, fundierte Entscheidungen zur Optimierung des Services und der betrieblichen Abläufe zu treffen.\n",
        "\n",
        "Im Rahmen dieser Projektarbeit sollen daher folgende zentrale Fragen untersucht werden:\n",
        "\n",
        "1.  Welche Faktoren haben den grössten Einfluss auf die Kundenzufriedenheit im Luftverkehr?\n",
        "2.  Welche Faktoren beeinflussen Flugverspätungen am meisten?\n",
        "3.  Wie variieren Passagieraufkommen und Flugverkehr über Zeit und Regionen hinweg, und welche Auswirkungen hat dies auf die Kundenzufriedenheit?\n",
        "\n",
        "# 3. Daten sammeln\n",
        "Eine systematische und strukturierte Datensammlung ist der Grundstein für die spätere Analyse und Entscheidungsfindung. Im folgenden Kapitel werden die verschiedenen Aspekte des Datenbeschaffungsprozesses behandelt.\n",
        "\n",
        "## 3.1 Datenquellen\n",
        "Die Fluggesellschaft möchte die Faktoren verstehen, die die Kundenzufriedenheit beeinflussen, und Strategien identifizieren, um das Kundenerlebnis zu verbessern. Leider gibt American Airlines keine konkreten Zahlen zu Kundenumfragen oder anderen relevanten Statistiken heraus. Aus diesem Grund bedient sich die Projektgruppe öffentlich zugänglicher, anonymisierter Daten von Kaggle, einer Plattform, die über 50.000 Datensätze zu verschiedensten Themen bietet (Kaggle, o. J.). Die Projektgruppe nutzt diese anonymisierten Datensätze gezielt und wendet sie auf American Airlines an, um daraus relevante Erkenntnisse abzuleiten.\n",
        "\n",
        "Die Projektgruppe arbeitet mit den folgenden Datenquellen:\n",
        "\n",
        "- Kundenzufriedenheitsumfrage XX (Annahme, dass diese Umfrage von American Airlines durchgeführt wurde) QUELLE\n",
        "- Daten zu Flugverspätungen: https://www.kaggle.com/datasets/ulrikthygepedersen/airlines-delay\n",
        "- Daten von den grössten Flughäfen nach Passagieraufkommen zwischen 2016 und 2020: https://www.kaggle.com/datasets/khaiid/most-crowded-airports\n",
        "- XX (weitere relevante Datensätze, die später spezifiziert werden) QUELLE\n",
        "\n",
        "## 3.2 Datenqualität\n",
        "\n",
        "\n",
        "\n",
        "## 3.3 Datenbereinigung\n",
        "**Kundenzufriedenheitsumfrage**\n",
        "\n",
        "xx\n",
        "\n",
        "**Daten zu Flugverspätungen**\n",
        "\n",
        "Für die weiterführende Datenanalyse werden ausschließlich Flugverspätungen der American Airlines (AA) berücksichtigt, während alle übrigen Zeilen aus dem Datensatz entfernt werden. Zudem wird der Datensatz der größten Flughäfen nach Passagieraufkommen zwischen 2016 und 2020 mit den IATA-Codes der Abflug- und Ankunftsorte abgeglichen. Die Passagierzahlen pro Flughafen werden in einer zusätzlichen Spalte dem Datensatz der Flugverspätungen hinzugefügt.\n",
        "\n",
        "**xx**\n",
        "\n",
        "xx\n",
        "\n",
        "## 3.4 Datenmodellierung\n",
        "\n",
        "# 4 Daten analysieren\n",
        "\n",
        "# Literaturverzeichnis\n",
        "Interanational, B. (2014, Dezember 11). *Airline Customer Experience*. B2B International. https://www.b2binternational.de/airline-customer-experience-ein-lacheln-kostet-nichts/)\n",
        "\n",
        "Kaggle. (o. J.). Kaggle: Your Machine Learning and Data Science Community. Abgerufen am 31. März 2024, von https://www.kaggle.com/\n",
        "\n",
        "Marr, B. (2020). From data to decisions: A five-step approach to data-driven decision-making. CPA Management Accounting Guideline.\n",
        "\n"
      ]
    }
  ],
  "metadata": {
    "colab": {
      "provenance": []
    },
    "kernelspec": {
      "display_name": "Python 3",
      "name": "python3"
    },
    "language_info": {
      "codemirror_mode": {
        "name": "ipython",
        "version": 3
      },
      "file_extension": ".py",
      "mimetype": "text/x-python",
      "name": "python",
      "nbconvert_exporter": "python",
      "pygments_lexer": "ipython3",
      "version": "3.13.2"
    }
  },
  "nbformat": 4,
  "nbformat_minor": 0
}